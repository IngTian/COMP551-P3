{
  "nbformat": 4,
  "nbformat_minor": 0,
  "metadata": {
    "colab": {
      "name": "p3.ipynb",
      "provenance": [],
      "collapsed_sections": [
        "rmMAd8pu2kHT"
      ],
      "machine_shape": "hm"
    },
    "kernelspec": {
      "name": "python3",
      "display_name": "Python 3"
    },
    "language_info": {
      "name": "python"
    },
    "accelerator": "GPU"
  },
  "cells": [
    {
      "cell_type": "markdown",
      "metadata": {
        "id": "rmMAd8pu2kHT"
      },
      "source": [
        "# **README**\n",
        "---\n",
        "\n",
        "## How do we run tests?\n",
        "In practice, we run experiments and gather results locally because the colab runtime can disconnect from time to time. We save models as `.pt` files and the accuracy records as `.json` files under the `out` folder.\n",
        "\n",
        "## The file structure?\n",
        "```Text\n",
        "├── dataset\n",
        "│   ├── images_l.pkl\n",
        "│   ├── images_test.pkl\n",
        "│   ├── images_ul.pkl\n",
        "│   └── labels_l.pkl\n",
        "├── init.py\n",
        "├── vgg16_vanilla.json\n",
        "├── p3.ipynb # This is where you should have your colab file.\n",
        "├── model\n",
        "│   ├── AlexNetVanilla.py\n",
        "│   ├── Baseline.py\n",
        "│   ├── VGG16Vanilla.py\n",
        "│   ├── VGG16_Deeper.py\n",
        "│   ├── VGG16_Delete_Tail.py\n",
        "│   ├── VGG16_Half_Width.py\n",
        "│   ├── VGG16_Higher_MaxPooling.py\n",
        "│   ├── VGG16_Higher_MaxPooling_Leaky.py\n",
        "│   └── __init__.py\n",
        "├── out\n",
        "│   ├── records.json # The experiment recrods.\n",
        "│   └── models\n",
        "│       └── ...      # Various saved models.\n",
        "├── out1 # For EM Records.\n",
        "│   └── ...\n",
        "├── requirements.txt\n",
        "└── utils\n",
        "    └── __init__.py\n",
        "\n",
        "\n",
        "```"
      ]
    },
    {
      "cell_type": "markdown",
      "metadata": {
        "id": "cPhdcDpibG1Q"
      },
      "source": [
        "## Setting up the Environment\n",
        "\n",
        "To execute the following codes, we need to set up the environment first, including installing python dependencies, downloading datasets, and so forth.\n",
        "\n",
        "Luckily, we have written a script for you, as in `init.py`."
      ]
    },
    {
      "cell_type": "code",
      "metadata": {
        "colab": {
          "base_uri": "https://localhost:8080/"
        },
        "id": "9cFNFBoHdY6g",
        "outputId": "5dd135f9-9040-4c8b-944a-29a26fcdb88c"
      },
      "source": [
        "!python init.py"
      ],
      "execution_count": 1,
      "outputs": [
        {
          "output_type": "stream",
          "name": "stdout",
          "text": [
            "INSTALLING DEPENDENCIES...\n",
            "\u001b[31mERROR: pip's dependency resolver does not currently take into account all the packages that are installed. This behaviour is the source of the following dependency conflicts.\n",
            "yellowbrick 1.3.post1 requires numpy<1.20,>=1.16.0, but you have numpy 1.21.2 which is incompatible.\n",
            "moviepy 0.2.3.5 requires decorator<5.0,>=4.0.2, but you have decorator 5.1.0 which is incompatible.\n",
            "google-colab 1.0.0 requires ipykernel~=4.10, but you have ipykernel 6.4.1 which is incompatible.\n",
            "google-colab 1.0.0 requires ipython~=5.5.0, but you have ipython 7.27.0 which is incompatible.\n",
            "google-colab 1.0.0 requires notebook~=5.3.0; python_version >= \"3.0\", but you have notebook 6.4.4 which is incompatible.\n",
            "google-colab 1.0.0 requires pandas~=1.1.0; python_version >= \"3.0\", but you have pandas 1.3.3 which is incompatible.\n",
            "google-colab 1.0.0 requires requests~=2.23.0, but you have requests 2.26.0 which is incompatible.\n",
            "google-colab 1.0.0 requires six~=1.15.0, but you have six 1.16.0 which is incompatible.\n",
            "google-colab 1.0.0 requires tornado~=5.1.0; python_version >= \"3.0\", but you have tornado 6.1 which is incompatible.\n",
            "flask 1.1.4 requires click<8.0,>=5.1, but you have click 8.0.1 which is incompatible.\n",
            "flask 1.1.4 requires Jinja2<3.0,>=2.10.1, but you have jinja2 3.0.1 which is incompatible.\n",
            "datascience 0.10.6 requires folium==0.2.1, but you have folium 0.8.3 which is incompatible.\n",
            "arviz 0.11.4 requires typing-extensions<4,>=3.7.4.3, but you have typing-extensions 4.0.0 which is incompatible.\n",
            "albumentations 0.1.12 requires imgaug<0.2.7,>=0.2.5, but you have imgaug 0.2.9 which is incompatible.\u001b[0m\n",
            "CREATING NECESSARY FOLDERS...\n",
            "DOWNLOADING DATASETS...\n",
            "100% 99.0M/99.0M [00:00<00:00, 156MB/s]\n",
            "100% 198M/198M [00:01<00:00, 144MB/s]\n",
            "100% 197M/197M [00:01<00:00, 144MB/s]\n",
            "100% 141k/141k [00:00<00:00, 85.3MB/s]\n",
            "PREPARE DATASETS...\n",
            "tcmalloc: large alloc 1073750016 bytes == 0x564be1968000 @  0x7f9cb4e9b2a4 0x564b940da4cc 0x564b9424093a 0x564b940dd46c 0x564b941cee1d 0x564b94150e99 0x564b940deafa 0x564b9414cc0d 0x564b9414b9ee 0x564b940debda 0x564b9414cc0d 0x564b9414b9ee 0x564b940debda 0x564b9414cc0d 0x564b9401dd14 0x564b9414dfe4 0x564b9414b9ee 0x564b940debda 0x564b94150d00 0x564b9414b9ee 0x564b9414b6f3 0x564b942154c2 0x564b9421583d 0x564b942156e6 0x564b941ed163 0x564b941ece0c 0x7f9cb3c84bf7 0x564b941eccea\n",
            "DONE(*¯︶¯*)\n"
          ]
        }
      ]
    },
    {
      "cell_type": "markdown",
      "metadata": {
        "id": "7boezUFHyDzY"
      },
      "source": [
        "# Running tests with a Specific Model.\n",
        "---\n",
        "\n",
        "In this study, we have encapsulated common utils under the `utils` module. Also, we have defined a general model tester in `model/__init__.py`. Simply passing the desired model into the tester, and it shall conduct experiments, record training and validation accuracies each epoch, and save intermediate models along the way. \n",
        "\n",
        "Here, we only provide you with a demo, using `VGG16Vanilla.py` from `model`.\n",
        "\n",
        "The code structure is modularized and thus easy to manipulate. Please take notice of the following code snippets.\n",
        "```python\n",
        "tester = ModelTester(\n",
        "    read_data(Path(DATASET_PATH)),\n",
        "    Net,\n",
        "    preprocesses=[]\n",
        ")\n",
        "\n",
        "training_options = {\n",
        "    \"epochs\": 50,\n",
        "    \"optimizer\": SGD,\n",
        "    \"optimizer_options\": {\n",
        "        \"lr\": 0.0005,\n",
        "        # \"betas\": (0.9, 0.99),\n",
        "        # \"eps\": 1e-8,\n",
        "        \"momentum\": 0.99\n",
        "    },\n",
        "    \"verbose\": False,\n",
        "    \"model_save_folder\": OUTPUT_MODELS_PATH\n",
        "}\n",
        "\n",
        "# Make tests.\n",
        "# make_test_predict(Path(\"out\") / \"vgg956.pt\", Path(\"out\") / \"test.csv\", tester)\n",
        "\n",
        "# Train model.\n",
        "train_model(tester, Path(\"out\") / \"models\", Path(\"out\") / \"records.json\", training_options)\n",
        "```\n",
        "\n",
        "The training options are parameters passed onto the model tester. For a full reference of available parameters, navigate to the ModelTester class in `model/__init__.py`."
      ]
    },
    {
      "cell_type": "code",
      "metadata": {
        "colab": {
          "base_uri": "https://localhost:8080/",
          "height": 504
        },
        "id": "Q8varacDyCkI",
        "outputId": "66d3e9cc-b310-48c0-a901-f5a21336b4bb"
      },
      "source": [
        "from pathlib import Path\n",
        "import numpy as np\n",
        "from model import ModelTester\n",
        "from model.VGG16Vanilla import Net # Here you pick your model.\n",
        "from utils import RawData, DataType, Data, preprocess_de_noise\n",
        "import pickle\n",
        "from simple_chalk import chalk\n",
        "import json\n",
        "import os\n",
        "from torch.optim import Adam, SGD\n",
        "from typing import Dict, Any\n",
        "import pandas as pd\n",
        "\n",
        "OUTPUT_PATH = Path(\"./out\")\n",
        "OUTPUT_MODELS_PATH = OUTPUT_PATH / \"models\"\n",
        "OUTPUT_RECORDS_PATH = OUTPUT_PATH / \"records.json\"\n",
        "DATASET_PATH = Path(\"./dataset\")\n",
        "\n",
        "\n",
        "def read_data(path: Path) -> RawData:\n",
        "    \"\"\"\n",
        "    Read data from the specified data set folder.\n",
        "    :param path:\n",
        "    :return:\n",
        "    \"\"\"\n",
        "    training_x_path = path / \"images_l.pkl\"\n",
        "    training_label_path = path / \"labels_l.pkl\"\n",
        "    training_unlabeled_x_path = path / \"images_ul.pkl\"\n",
        "    test_path = path / \"images_test.pkl\"\n",
        "\n",
        "    with open(training_x_path, 'rb') as f:\n",
        "        training_x = pickle.load(f)\n",
        "\n",
        "    with open(training_label_path, 'rb') as f:\n",
        "        training_label = pickle.load(f)\n",
        "\n",
        "    with open(training_unlabeled_x_path, 'rb') as f:\n",
        "        training_unlabeled = pickle.load(f)\n",
        "\n",
        "    with open(test_path, 'rb') as f:\n",
        "        test = pickle.load(f)\n",
        "\n",
        "    validation_x, validation_y = training_x[:1000], training_label[:1000]\n",
        "\n",
        "    training_labeled = Data(training_x[1000:], training_label[1000:], DataType.LABELED_TRAINING)\n",
        "    training_unlabeled = Data(training_unlabeled, None, DataType.UN_LABELED_TRAINING)\n",
        "    test = Data(test, None, DataType.TEST)\n",
        "    validation = Data(validation_x, validation_y, DataType.VALIDATION)\n",
        "\n",
        "    result = RawData()\n",
        "    result.labeled_training = training_labeled\n",
        "    result.unlabeled_training = training_unlabeled\n",
        "    result.test = test\n",
        "    result.validation = validation\n",
        "\n",
        "    return result\n",
        "\n",
        "\n",
        "def make_test_predict(\n",
        "        model_path: Path,\n",
        "        csv_result_path: Path,\n",
        "        container: ModelTester\n",
        ") -> None:\n",
        "    print(f'{chalk.bold(\"-\" * 25 + \"START TESTING\" + \"-\" * 25)}')\n",
        "    # Load the trained model.\n",
        "    container.load(model_path)\n",
        "    result = container.test().detach().cpu().numpy().astype(int)\n",
        "\n",
        "    # Convert the numpy into CSV format.\n",
        "    result = result.astype(bytearray)\n",
        "    copy = []\n",
        "    for i in range(len(result)):\n",
        "        copy.append(\"\".join(map(lambda k: str(k), result[i])))\n",
        "    result = np.array(copy)\n",
        "    index = np.linspace(0, len(result) - 1, num=len(result), dtype=int).transpose()\n",
        "    result = np.append(index[:, None], result[:, None], axis=1)\n",
        "    frame = pd.DataFrame(result)\n",
        "    frame.columns = [\"# ID\", \"Category\"]\n",
        "\n",
        "    # Write the CSV file.\n",
        "    frame.to_csv(csv_result_path.absolute(), index=False)\n",
        "    print(f'{chalk.bold(\"-\" * 25 + \"TESTING COMPLETED\" + \"-\" * 25)}')\n",
        "\n",
        "\n",
        "def train_model(\n",
        "        container: ModelTester,\n",
        "        output_models_path: Path,\n",
        "        output_records_path: Path,\n",
        "        training_options: Dict[str, Any]\n",
        ") -> None:\n",
        "    print(f'{chalk.bold(\"-\" * 25 + \"START TRAINING\" + \"-\" * 25)}')\n",
        "\n",
        "    # Create the folder if the folder does not exist.\n",
        "    if not output_models_path.exists():\n",
        "        os.makedirs(output_models_path.absolute())\n",
        "\n",
        "    training_records = container.train(**training_options)\n",
        "    print(f'{chalk.bold(\"-\" * 25 + \"TRAINING COMPLETED\" + \"-\" * 25)}')\n",
        "\n",
        "    # Save training records.\n",
        "    with open(output_records_path, 'w') as output_file:\n",
        "        json.dump(training_records, output_file)\n",
        "\n",
        "\n",
        "if __name__ == '__main__':\n",
        "    tester = ModelTester(\n",
        "        read_data(Path(DATASET_PATH)),\n",
        "        Net,\n",
        "        preprocesses=[]\n",
        "    )\n",
        "\n",
        "    training_options = {\n",
        "        \"epochs\": 50,\n",
        "        \"optimizer\": SGD,\n",
        "        \"optimizer_options\": {\n",
        "            \"lr\": 0.0005,\n",
        "            # \"betas\": (0.9, 0.99),\n",
        "            # \"eps\": 1e-8,\n",
        "            \"momentum\": 0.99\n",
        "        },\n",
        "        \"verbose\": False,\n",
        "        \"model_save_folder\": OUTPUT_MODELS_PATH\n",
        "    }\n",
        "\n",
        "    # Make tests.\n",
        "    # make_test_predict(Path(\"out\") / \"vgg956.pt\", Path(\"out\") / \"test.csv\", tester)\n",
        "\n",
        "    # Train model.w\n",
        "    train_model(tester, Path(\"out\") / \"models\", Path(\"out\") / \"records.json\", training_options)\n"
      ],
      "execution_count": 2,
      "outputs": [
        {
          "output_type": "stream",
          "name": "stdout",
          "text": [
            "\u001b[1mCREATED MODEL TESTER\u001b[0m\n",
            "DEVICES USED           : cuda\n",
            "# OF LABELED TRAINING  : 29000\n",
            "# OF UNLABELED TRAINING: 30000\n",
            "# OF VALIDATION        : 1000\n",
            "# OF TEST              : 15000\n",
            "\u001b[1m-------------------------START TRAINING-------------------------\u001b[0m\n"
          ]
        },
        {
          "output_type": "error",
          "ename": "KeyboardInterrupt",
          "evalue": "ignored",
          "traceback": [
            "\u001b[0;31m---------------------------------------------------------------------------\u001b[0m",
            "\u001b[0;31mKeyboardInterrupt\u001b[0m                         Traceback (most recent call last)",
            "\u001b[0;32m<ipython-input-2-94238912082b>\u001b[0m in \u001b[0;36m<module>\u001b[0;34m()\u001b[0m\n\u001b[1;32m    127\u001b[0m \u001b[0;34m\u001b[0m\u001b[0m\n\u001b[1;32m    128\u001b[0m     \u001b[0;31m# Train model.w\u001b[0m\u001b[0;34m\u001b[0m\u001b[0;34m\u001b[0m\u001b[0;34m\u001b[0m\u001b[0m\n\u001b[0;32m--> 129\u001b[0;31m     \u001b[0mtrain_model\u001b[0m\u001b[0;34m(\u001b[0m\u001b[0mtester\u001b[0m\u001b[0;34m,\u001b[0m \u001b[0mPath\u001b[0m\u001b[0;34m(\u001b[0m\u001b[0;34m\"out\"\u001b[0m\u001b[0;34m)\u001b[0m \u001b[0;34m/\u001b[0m \u001b[0;34m\"models\"\u001b[0m\u001b[0;34m,\u001b[0m \u001b[0mPath\u001b[0m\u001b[0;34m(\u001b[0m\u001b[0;34m\"out\"\u001b[0m\u001b[0;34m)\u001b[0m \u001b[0;34m/\u001b[0m \u001b[0;34m\"records.json\"\u001b[0m\u001b[0;34m,\u001b[0m \u001b[0mtraining_options\u001b[0m\u001b[0;34m)\u001b[0m\u001b[0;34m\u001b[0m\u001b[0;34m\u001b[0m\u001b[0m\n\u001b[0m",
            "\u001b[0;32m<ipython-input-2-94238912082b>\u001b[0m in \u001b[0;36mtrain_model\u001b[0;34m(container, output_models_path, output_records_path, training_options)\u001b[0m\n\u001b[1;32m     95\u001b[0m         \u001b[0mos\u001b[0m\u001b[0;34m.\u001b[0m\u001b[0mmakedirs\u001b[0m\u001b[0;34m(\u001b[0m\u001b[0moutput_models_path\u001b[0m\u001b[0;34m.\u001b[0m\u001b[0mabsolute\u001b[0m\u001b[0;34m(\u001b[0m\u001b[0;34m)\u001b[0m\u001b[0;34m)\u001b[0m\u001b[0;34m\u001b[0m\u001b[0;34m\u001b[0m\u001b[0m\n\u001b[1;32m     96\u001b[0m \u001b[0;34m\u001b[0m\u001b[0m\n\u001b[0;32m---> 97\u001b[0;31m     \u001b[0mtraining_records\u001b[0m \u001b[0;34m=\u001b[0m \u001b[0mcontainer\u001b[0m\u001b[0;34m.\u001b[0m\u001b[0mtrain\u001b[0m\u001b[0;34m(\u001b[0m\u001b[0;34m**\u001b[0m\u001b[0mtraining_options\u001b[0m\u001b[0;34m)\u001b[0m\u001b[0;34m\u001b[0m\u001b[0;34m\u001b[0m\u001b[0m\n\u001b[0m\u001b[1;32m     98\u001b[0m     \u001b[0mprint\u001b[0m\u001b[0;34m(\u001b[0m\u001b[0;34mf'{chalk.bold(\"-\" * 25 + \"TRAINING COMPLETED\" + \"-\" * 25)}'\u001b[0m\u001b[0;34m)\u001b[0m\u001b[0;34m\u001b[0m\u001b[0;34m\u001b[0m\u001b[0m\n\u001b[1;32m     99\u001b[0m \u001b[0;34m\u001b[0m\u001b[0m\n",
            "\u001b[0;32m/content/model/__init__.py\u001b[0m in \u001b[0;36mtrain\u001b[0;34m(self, epochs, epochs_record, records_load_rate, batch_size, loss_function, loss_function_options, optimizer, optimizer_options, verbose, model_save_folder)\u001b[0m\n\u001b[1;32m    117\u001b[0m                 \u001b[0mx\u001b[0m \u001b[0;34m=\u001b[0m \u001b[0mself\u001b[0m\u001b[0;34m.\u001b[0m\u001b[0m__trained_model\u001b[0m\u001b[0;34m.\u001b[0m\u001b[0mprepare_input\u001b[0m\u001b[0;34m(\u001b[0m\u001b[0mx\u001b[0m\u001b[0;34m)\u001b[0m\u001b[0;34m\u001b[0m\u001b[0;34m\u001b[0m\u001b[0m\n\u001b[1;32m    118\u001b[0m                 \u001b[0;32mif\u001b[0m \u001b[0mself\u001b[0m\u001b[0;34m.\u001b[0m\u001b[0m__device\u001b[0m\u001b[0;34m.\u001b[0m\u001b[0mtype\u001b[0m \u001b[0;34m==\u001b[0m \u001b[0;34m'cuda'\u001b[0m\u001b[0;34m:\u001b[0m\u001b[0;34m\u001b[0m\u001b[0;34m\u001b[0m\u001b[0m\n\u001b[0;32m--> 119\u001b[0;31m                     \u001b[0mx\u001b[0m\u001b[0;34m,\u001b[0m \u001b[0my\u001b[0m \u001b[0;34m=\u001b[0m \u001b[0mx\u001b[0m\u001b[0;34m.\u001b[0m\u001b[0mcuda\u001b[0m\u001b[0;34m(\u001b[0m\u001b[0;34m)\u001b[0m\u001b[0;34m,\u001b[0m \u001b[0my\u001b[0m\u001b[0;34m.\u001b[0m\u001b[0mcuda\u001b[0m\u001b[0;34m(\u001b[0m\u001b[0;34m)\u001b[0m\u001b[0;34m\u001b[0m\u001b[0;34m\u001b[0m\u001b[0m\n\u001b[0m\u001b[1;32m    120\u001b[0m                 \u001b[0;32melse\u001b[0m\u001b[0;34m:\u001b[0m\u001b[0;34m\u001b[0m\u001b[0;34m\u001b[0m\u001b[0m\n\u001b[1;32m    121\u001b[0m                     \u001b[0mx\u001b[0m\u001b[0;34m,\u001b[0m \u001b[0my\u001b[0m \u001b[0;34m=\u001b[0m \u001b[0mx\u001b[0m\u001b[0;34m.\u001b[0m\u001b[0mcpu\u001b[0m\u001b[0;34m(\u001b[0m\u001b[0;34m)\u001b[0m\u001b[0;34m,\u001b[0m \u001b[0my\u001b[0m\u001b[0;34m.\u001b[0m\u001b[0mcpu\u001b[0m\u001b[0;34m(\u001b[0m\u001b[0;34m)\u001b[0m\u001b[0;34m\u001b[0m\u001b[0;34m\u001b[0m\u001b[0m\n",
            "\u001b[0;31mKeyboardInterrupt\u001b[0m: "
          ]
        }
      ]
    },
    {
      "cell_type": "markdown",
      "metadata": {
        "id": "UCuQX5iHyuNg"
      },
      "source": [
        "# Expectation Maximum\n",
        "---\n",
        "\n",
        "Here, we present how we do the EM algorithm. Generally speaking, it is analogous to what we have done before, yet there are minor differences."
      ]
    },
    {
      "cell_type": "code",
      "metadata": {
        "id": "ehlS9DJfyuvm",
        "colab": {
          "base_uri": "https://localhost:8080/",
          "height": 594
        },
        "outputId": "6f70932e-004c-4029-a361-2d776a69cc29"
      },
      "source": [
        "from pathlib import Path\n",
        "import numpy as np\n",
        "from model import ModelTester\n",
        "from model.VGG16_Higher_MaxPooling_Leaky import Net\n",
        "from utils import RawData, DataType, Data, preprocess_de_noise\n",
        "import pickle\n",
        "from simple_chalk import chalk\n",
        "import json\n",
        "import os\n",
        "from torch.optim import Adam, SGD\n",
        "from typing import Dict, Any\n",
        "import pandas as pd\n",
        "\n",
        "np.random.seed(42)\n",
        "\n",
        "# OUTPUT_PATH = Path(\"./out\")\n",
        "# OUTPUT_MODELS_PATH = OUTPUT_PATH / \"models\"\n",
        "# OUTPUT_RECORDS_PATH = OUTPUT_PATH / \"records.json\"\n",
        "DATASET_PATH = Path(\"./dataset\")\n",
        "\n",
        "\n",
        "def read_data(path: Path) -> RawData:\n",
        "    \"\"\"\n",
        "    Read data from the specified data set folder.\n",
        "    :param path:\n",
        "    :return:\n",
        "    \"\"\"\n",
        "    training_x_path = path / \"images_l.pkl\"\n",
        "    training_label_path = path / \"labels_l.pkl\"\n",
        "    training_unlabeled_x_path = path / \"images_ul.pkl\"\n",
        "    test_path = path / \"images_test.pkl\"\n",
        "\n",
        "    with open(training_x_path, 'rb') as f:\n",
        "        training_x = pickle.load(f)\n",
        "\n",
        "    with open(training_label_path, 'rb') as f:\n",
        "        training_label = pickle.load(f)\n",
        "\n",
        "    with open(training_unlabeled_x_path, 'rb') as f:\n",
        "        training_unlabeled = pickle.load(f)\n",
        "\n",
        "    with open(test_path, 'rb') as f:\n",
        "        test = pickle.load(f)\n",
        "\n",
        "    validation_x, validation_y = training_x[:1000], training_label[:1000]\n",
        "\n",
        "    training_labeled = Data(training_x[1000:], training_label[1000:], DataType.LABELED_TRAINING)\n",
        "    training_unlabeled = Data(training_unlabeled, None, DataType.UN_LABELED_TRAINING)\n",
        "    test = Data(test, None, DataType.TEST)\n",
        "    validation = Data(validation_x, validation_y, DataType.VALIDATION)\n",
        "\n",
        "    result = RawData()\n",
        "    result.labeled_training = training_labeled\n",
        "    result.unlabeled_training = training_unlabeled\n",
        "    result.test = test\n",
        "    result.validation = validation\n",
        "\n",
        "    return result\n",
        "\n",
        "\n",
        "def get_random_label(labels, num):\n",
        "    \"\"\"\n",
        "    assign random labels for unlabeled images\n",
        "    :param labels: training labels\n",
        "    :param num:\n",
        "    :return:\n",
        "    \"\"\"\n",
        "    index_range = np.arange(0, labels.shape[0])\n",
        "    rand_indices = np.random.choice(index_range, num, replace=False)\n",
        "    return labels[rand_indices]\n",
        "\n",
        "\n",
        "def prepare_data(training_x, training_label, training_unlabeled, test, num) -> RawData:\n",
        "    \"\"\"\n",
        "    :param path:\n",
        "    :param num: number of unlabled data to use for training\n",
        "    :return:\n",
        "    \"\"\"\n",
        "    validation_x, validation_y = training_x[:1000], training_label[:1000]\n",
        "    training_labeled = Data(training_x[1000:], training_label[1000:], DataType.LABELED_TRAINING)\n",
        "    training_unlabeled = Data(training_unlabeled[:num], None, DataType.UN_LABELED_TRAINING)\n",
        "    test = Data(test, None, DataType.TEST)\n",
        "    validation = Data(validation_x, validation_y, DataType.VALIDATION)\n",
        "    result = RawData()\n",
        "    result.labeled_training = training_labeled\n",
        "    result.unlabeled_training = training_unlabeled\n",
        "    result.test = test\n",
        "    result.validation = validation\n",
        "    return result\n",
        "\n",
        "\n",
        "def train_model(\n",
        "        container: ModelTester,\n",
        "        output_models_path: Path,\n",
        "        output_records_path: Path,\n",
        "        training_options: Dict[str, Any]\n",
        ") -> None:\n",
        "    print(f'{chalk.bold(\"-\" * 25 + \"START TRAINING\" + \"-\" * 25)}')\n",
        "\n",
        "    # Create the folder if the folder does not exist.\n",
        "    if not output_models_path.exists():\n",
        "        os.makedirs(output_models_path.absolute())\n",
        "\n",
        "    training_records = container.train(**training_options)\n",
        "    print(f'{chalk.bold(\"-\" * 25 + \"TRAINING COMPLETED\" + \"-\" * 25)}')\n",
        "\n",
        "    # Save training records.\n",
        "    with open(output_records_path, 'w') as output_file:\n",
        "        json.dump(training_records, output_file)\n",
        "\n",
        "\n",
        "if __name__ == '__main__':\n",
        "\n",
        "    path = DATASET_PATH\n",
        "    training_x_path = path / \"images_l.pkl\"\n",
        "    training_label_path = path / \"labels_l.pkl\"\n",
        "    training_unlabeled_x_path = path / \"images_ul.pkl\"\n",
        "    test_path = path / \"images_test.pkl\"\n",
        "\n",
        "    with open(training_x_path, 'rb') as f:\n",
        "        training_x = pickle.load(f)\n",
        "\n",
        "    with open(training_label_path, 'rb') as f:\n",
        "        training_label = pickle.load(f)\n",
        "\n",
        "    with open(training_unlabeled_x_path, 'rb') as f:\n",
        "        training_unlabeled = pickle.load(f)\n",
        "\n",
        "    with open(test_path, 'rb') as f:\n",
        "        test = pickle.load(f)\n",
        "\n",
        "    num = 10000\n",
        "    random_label = get_random_label(training_label, num)\n",
        "    training_x = np.concatenate((training_x, training_unlabeled[:num]), axis=0)\n",
        "    training_initial = np.concatenate((training_label, random_label[:num]), axis=0)\n",
        "\n",
        "    result = prepare_data(training_x, training_initial, training_unlabeled, test, num)\n",
        "\n",
        "    for i in range(20):\n",
        "        print(f\"iteration {i + 1}\")\n",
        "        tester = ModelTester(\n",
        "            result,\n",
        "            Net,\n",
        "            preprocesses=[]\n",
        "        )\n",
        "\n",
        "        training_options = {\n",
        "            \"epochs\": 20,\n",
        "            \"optimizer\": SGD,\n",
        "            \"optimizer_options\": {\n",
        "                \"lr\": 0.0005,\n",
        "                # \"betas\": (0.9, 0.99),\n",
        "                # \"eps\": 1e-8,\n",
        "                \"momentum\": 0.99\n",
        "            },\n",
        "            \"verbose\": False,\n",
        "            \"model_save_folder\": Path(f\"./out{i + 1}\")\n",
        "        }\n",
        "\n",
        "        output_model_path = Path(f\"out{i + 1}/models\")\n",
        "        output_record_path = Path(f\"out{i + 1}\") / \"records.json\"\n",
        "\n",
        "        train_model(tester, output_model_path, output_record_path, training_options)\n",
        "\n",
        "        with open(output_record_path, 'r') as j:\n",
        "            contents = json.loads(j.read())\n",
        "\n",
        "        best_index = 0\n",
        "        min_val_error = 100\n",
        "        for j in range(len(contents)):\n",
        "            cur_err = contents[j]['validation_error']\n",
        "            if cur_err < min_val_error:\n",
        "                min_val_error = cur_err\n",
        "                best_index = j\n",
        "        best_index += 1\n",
        "\n",
        "        # load the best  model\n",
        "        print('Load the best model', best_index)\n",
        "        tester.load(Path(f'./out{i + 1}') / f'epoch_{best_index}.pt')\n",
        "        # predict the labels for unlabeled data\n",
        "        predicted_labels = tester.predict_unlabeled().detach().numpy()\n",
        "        # update result\n",
        "        training_updated = np.concatenate((training_label, predicted_labels), axis=0)\n",
        "        result = prepare_data(training_x, training_updated, training_unlabeled, test, num)\n"
      ],
      "execution_count": null,
      "outputs": [
        {
          "output_type": "stream",
          "name": "stdout",
          "text": [
            "iteration 1\n",
            "\u001b[1mCREATED MODEL TESTER\u001b[0m\n",
            "DEVICES USED           : cuda\n",
            "# OF LABELED TRAINING  : 39000\n",
            "# OF UNLABELED TRAINING: 10000\n",
            "# OF VALIDATION        : 1000\n",
            "# OF TEST              : 15000\n",
            "\u001b[1m-------------------------START TRAINING-------------------------\u001b[0m\n",
            "\u001b[1mCOMPLETED EPOCH: 1\u001b[0m \u001b[1mTRAINING ERROR RATE: \u001b[0m \u001b[91m94.8\u001b[0m% \u001b[1mVALIDATION ERROR RATE: \u001b[0m \u001b[91m93.5\u001b[0m%\n"
          ]
        },
        {
          "output_type": "error",
          "ename": "KeyboardInterrupt",
          "evalue": "ignored",
          "traceback": [
            "\u001b[0;31m---------------------------------------------------------------------------\u001b[0m",
            "\u001b[0;31mKeyboardInterrupt\u001b[0m                         Traceback (most recent call last)",
            "\u001b[0;32m<ipython-input-4-dce3de02aca1>\u001b[0m in \u001b[0;36m<module>\u001b[0;34m()\u001b[0m\n\u001b[1;32m    161\u001b[0m         \u001b[0moutput_record_path\u001b[0m \u001b[0;34m=\u001b[0m \u001b[0mPath\u001b[0m\u001b[0;34m(\u001b[0m\u001b[0;34mf\"out{i + 1}\"\u001b[0m\u001b[0;34m)\u001b[0m \u001b[0;34m/\u001b[0m \u001b[0;34m\"records.json\"\u001b[0m\u001b[0;34m\u001b[0m\u001b[0;34m\u001b[0m\u001b[0m\n\u001b[1;32m    162\u001b[0m \u001b[0;34m\u001b[0m\u001b[0m\n\u001b[0;32m--> 163\u001b[0;31m         \u001b[0mtrain_model\u001b[0m\u001b[0;34m(\u001b[0m\u001b[0mtester\u001b[0m\u001b[0;34m,\u001b[0m \u001b[0moutput_model_path\u001b[0m\u001b[0;34m,\u001b[0m \u001b[0moutput_record_path\u001b[0m\u001b[0;34m,\u001b[0m \u001b[0mtraining_options\u001b[0m\u001b[0;34m)\u001b[0m\u001b[0;34m\u001b[0m\u001b[0;34m\u001b[0m\u001b[0m\n\u001b[0m\u001b[1;32m    164\u001b[0m \u001b[0;34m\u001b[0m\u001b[0m\n\u001b[1;32m    165\u001b[0m         \u001b[0;32mwith\u001b[0m \u001b[0mopen\u001b[0m\u001b[0;34m(\u001b[0m\u001b[0moutput_record_path\u001b[0m\u001b[0;34m,\u001b[0m \u001b[0;34m'r'\u001b[0m\u001b[0;34m)\u001b[0m \u001b[0;32mas\u001b[0m \u001b[0mj\u001b[0m\u001b[0;34m:\u001b[0m\u001b[0;34m\u001b[0m\u001b[0;34m\u001b[0m\u001b[0m\n",
            "\u001b[0;32m<ipython-input-4-dce3de02aca1>\u001b[0m in \u001b[0;36mtrain_model\u001b[0;34m(container, output_models_path, output_records_path, training_options)\u001b[0m\n\u001b[1;32m    102\u001b[0m         \u001b[0mos\u001b[0m\u001b[0;34m.\u001b[0m\u001b[0mmakedirs\u001b[0m\u001b[0;34m(\u001b[0m\u001b[0moutput_models_path\u001b[0m\u001b[0;34m.\u001b[0m\u001b[0mabsolute\u001b[0m\u001b[0;34m(\u001b[0m\u001b[0;34m)\u001b[0m\u001b[0;34m)\u001b[0m\u001b[0;34m\u001b[0m\u001b[0;34m\u001b[0m\u001b[0m\n\u001b[1;32m    103\u001b[0m \u001b[0;34m\u001b[0m\u001b[0m\n\u001b[0;32m--> 104\u001b[0;31m     \u001b[0mtraining_records\u001b[0m \u001b[0;34m=\u001b[0m \u001b[0mcontainer\u001b[0m\u001b[0;34m.\u001b[0m\u001b[0mtrain\u001b[0m\u001b[0;34m(\u001b[0m\u001b[0;34m**\u001b[0m\u001b[0mtraining_options\u001b[0m\u001b[0;34m)\u001b[0m\u001b[0;34m\u001b[0m\u001b[0;34m\u001b[0m\u001b[0m\n\u001b[0m\u001b[1;32m    105\u001b[0m     \u001b[0mprint\u001b[0m\u001b[0;34m(\u001b[0m\u001b[0;34mf'{chalk.bold(\"-\" * 25 + \"TRAINING COMPLETED\" + \"-\" * 25)}'\u001b[0m\u001b[0;34m)\u001b[0m\u001b[0;34m\u001b[0m\u001b[0;34m\u001b[0m\u001b[0m\n\u001b[1;32m    106\u001b[0m \u001b[0;34m\u001b[0m\u001b[0m\n",
            "\u001b[0;32m/content/model/__init__.py\u001b[0m in \u001b[0;36mtrain\u001b[0;34m(self, epochs, epochs_record, records_load_rate, batch_size, loss_function, loss_function_options, optimizer, optimizer_options, verbose, model_save_folder)\u001b[0m\n\u001b[1;32m    123\u001b[0m                 \u001b[0;31m# Update weights.\u001b[0m\u001b[0;34m\u001b[0m\u001b[0;34m\u001b[0m\u001b[0;34m\u001b[0m\u001b[0m\n\u001b[1;32m    124\u001b[0m                 \u001b[0mgradient_descent\u001b[0m\u001b[0;34m.\u001b[0m\u001b[0mzero_grad\u001b[0m\u001b[0;34m(\u001b[0m\u001b[0;34m)\u001b[0m\u001b[0;34m\u001b[0m\u001b[0;34m\u001b[0m\u001b[0m\n\u001b[0;32m--> 125\u001b[0;31m                 \u001b[0moutput\u001b[0m \u001b[0;34m=\u001b[0m \u001b[0mself\u001b[0m\u001b[0;34m.\u001b[0m\u001b[0m__trained_model\u001b[0m\u001b[0;34m(\u001b[0m\u001b[0mx\u001b[0m\u001b[0;34m)\u001b[0m\u001b[0;34m\u001b[0m\u001b[0;34m\u001b[0m\u001b[0m\n\u001b[0m\u001b[1;32m    126\u001b[0m                 \u001b[0ml\u001b[0m \u001b[0;34m=\u001b[0m \u001b[0mcriterion\u001b[0m\u001b[0;34m(\u001b[0m\u001b[0moutput\u001b[0m\u001b[0;34m,\u001b[0m \u001b[0my\u001b[0m\u001b[0;34m)\u001b[0m\u001b[0;34m\u001b[0m\u001b[0;34m\u001b[0m\u001b[0m\n\u001b[1;32m    127\u001b[0m                 \u001b[0ml\u001b[0m\u001b[0;34m.\u001b[0m\u001b[0mbackward\u001b[0m\u001b[0;34m(\u001b[0m\u001b[0;34m)\u001b[0m\u001b[0;34m\u001b[0m\u001b[0;34m\u001b[0m\u001b[0m\n",
            "\u001b[0;32m/usr/local/lib/python3.7/dist-packages/torch/nn/modules/module.py\u001b[0m in \u001b[0;36m_call_impl\u001b[0;34m(self, *input, **kwargs)\u001b[0m\n\u001b[1;32m   1100\u001b[0m         if not (self._backward_hooks or self._forward_hooks or self._forward_pre_hooks or _global_backward_hooks\n\u001b[1;32m   1101\u001b[0m                 or _global_forward_hooks or _global_forward_pre_hooks):\n\u001b[0;32m-> 1102\u001b[0;31m             \u001b[0;32mreturn\u001b[0m \u001b[0mforward_call\u001b[0m\u001b[0;34m(\u001b[0m\u001b[0;34m*\u001b[0m\u001b[0minput\u001b[0m\u001b[0;34m,\u001b[0m \u001b[0;34m**\u001b[0m\u001b[0mkwargs\u001b[0m\u001b[0;34m)\u001b[0m\u001b[0;34m\u001b[0m\u001b[0;34m\u001b[0m\u001b[0m\n\u001b[0m\u001b[1;32m   1103\u001b[0m         \u001b[0;31m# Do not call functions when jit is used\u001b[0m\u001b[0;34m\u001b[0m\u001b[0;34m\u001b[0m\u001b[0;34m\u001b[0m\u001b[0m\n\u001b[1;32m   1104\u001b[0m         \u001b[0mfull_backward_hooks\u001b[0m\u001b[0;34m,\u001b[0m \u001b[0mnon_full_backward_hooks\u001b[0m \u001b[0;34m=\u001b[0m \u001b[0;34m[\u001b[0m\u001b[0;34m]\u001b[0m\u001b[0;34m,\u001b[0m \u001b[0;34m[\u001b[0m\u001b[0;34m]\u001b[0m\u001b[0;34m\u001b[0m\u001b[0;34m\u001b[0m\u001b[0m\n",
            "\u001b[0;32m/content/model/VGG16_Higher_MaxPooling_Leaky.py\u001b[0m in \u001b[0;36mforward\u001b[0;34m(self, x)\u001b[0m\n\u001b[1;32m     51\u001b[0m \u001b[0;34m\u001b[0m\u001b[0m\n\u001b[1;32m     52\u001b[0m     \u001b[0;32mdef\u001b[0m \u001b[0mforward\u001b[0m\u001b[0;34m(\u001b[0m\u001b[0mself\u001b[0m\u001b[0;34m,\u001b[0m \u001b[0mx\u001b[0m\u001b[0;34m:\u001b[0m \u001b[0mTensor\u001b[0m\u001b[0;34m)\u001b[0m \u001b[0;34m->\u001b[0m \u001b[0mTensor\u001b[0m\u001b[0;34m:\u001b[0m\u001b[0;34m\u001b[0m\u001b[0;34m\u001b[0m\u001b[0m\n\u001b[0;32m---> 53\u001b[0;31m         \u001b[0mx\u001b[0m \u001b[0;34m=\u001b[0m \u001b[0mself\u001b[0m\u001b[0;34m.\u001b[0m\u001b[0mconv_layers\u001b[0m\u001b[0;34m(\u001b[0m\u001b[0mx\u001b[0m\u001b[0;34m)\u001b[0m\u001b[0;34m\u001b[0m\u001b[0;34m\u001b[0m\u001b[0m\n\u001b[0m\u001b[1;32m     54\u001b[0m         \u001b[0mx\u001b[0m \u001b[0;34m=\u001b[0m \u001b[0mx\u001b[0m\u001b[0;34m.\u001b[0m\u001b[0mreshape\u001b[0m\u001b[0;34m(\u001b[0m\u001b[0mx\u001b[0m\u001b[0;34m.\u001b[0m\u001b[0mshape\u001b[0m\u001b[0;34m[\u001b[0m\u001b[0;36m0\u001b[0m\u001b[0;34m]\u001b[0m\u001b[0;34m,\u001b[0m \u001b[0;34m-\u001b[0m\u001b[0;36m1\u001b[0m\u001b[0;34m)\u001b[0m\u001b[0;34m\u001b[0m\u001b[0;34m\u001b[0m\u001b[0m\n\u001b[1;32m     55\u001b[0m         \u001b[0mx\u001b[0m \u001b[0;34m=\u001b[0m \u001b[0mself\u001b[0m\u001b[0;34m.\u001b[0m\u001b[0mfc_layers\u001b[0m\u001b[0;34m(\u001b[0m\u001b[0mx\u001b[0m\u001b[0;34m)\u001b[0m\u001b[0;34m\u001b[0m\u001b[0;34m\u001b[0m\u001b[0m\n",
            "\u001b[0;32m/usr/local/lib/python3.7/dist-packages/torch/nn/modules/module.py\u001b[0m in \u001b[0;36m_call_impl\u001b[0;34m(self, *input, **kwargs)\u001b[0m\n\u001b[1;32m   1100\u001b[0m         if not (self._backward_hooks or self._forward_hooks or self._forward_pre_hooks or _global_backward_hooks\n\u001b[1;32m   1101\u001b[0m                 or _global_forward_hooks or _global_forward_pre_hooks):\n\u001b[0;32m-> 1102\u001b[0;31m             \u001b[0;32mreturn\u001b[0m \u001b[0mforward_call\u001b[0m\u001b[0;34m(\u001b[0m\u001b[0;34m*\u001b[0m\u001b[0minput\u001b[0m\u001b[0;34m,\u001b[0m \u001b[0;34m**\u001b[0m\u001b[0mkwargs\u001b[0m\u001b[0;34m)\u001b[0m\u001b[0;34m\u001b[0m\u001b[0;34m\u001b[0m\u001b[0m\n\u001b[0m\u001b[1;32m   1103\u001b[0m         \u001b[0;31m# Do not call functions when jit is used\u001b[0m\u001b[0;34m\u001b[0m\u001b[0;34m\u001b[0m\u001b[0;34m\u001b[0m\u001b[0m\n\u001b[1;32m   1104\u001b[0m         \u001b[0mfull_backward_hooks\u001b[0m\u001b[0;34m,\u001b[0m \u001b[0mnon_full_backward_hooks\u001b[0m \u001b[0;34m=\u001b[0m \u001b[0;34m[\u001b[0m\u001b[0;34m]\u001b[0m\u001b[0;34m,\u001b[0m \u001b[0;34m[\u001b[0m\u001b[0;34m]\u001b[0m\u001b[0;34m\u001b[0m\u001b[0;34m\u001b[0m\u001b[0m\n",
            "\u001b[0;32m/usr/local/lib/python3.7/dist-packages/torch/nn/modules/container.py\u001b[0m in \u001b[0;36mforward\u001b[0;34m(self, input)\u001b[0m\n\u001b[1;32m    139\u001b[0m     \u001b[0;32mdef\u001b[0m \u001b[0mforward\u001b[0m\u001b[0;34m(\u001b[0m\u001b[0mself\u001b[0m\u001b[0;34m,\u001b[0m \u001b[0minput\u001b[0m\u001b[0;34m)\u001b[0m\u001b[0;34m:\u001b[0m\u001b[0;34m\u001b[0m\u001b[0;34m\u001b[0m\u001b[0m\n\u001b[1;32m    140\u001b[0m         \u001b[0;32mfor\u001b[0m \u001b[0mmodule\u001b[0m \u001b[0;32min\u001b[0m \u001b[0mself\u001b[0m\u001b[0;34m:\u001b[0m\u001b[0;34m\u001b[0m\u001b[0;34m\u001b[0m\u001b[0m\n\u001b[0;32m--> 141\u001b[0;31m             \u001b[0minput\u001b[0m \u001b[0;34m=\u001b[0m \u001b[0mmodule\u001b[0m\u001b[0;34m(\u001b[0m\u001b[0minput\u001b[0m\u001b[0;34m)\u001b[0m\u001b[0;34m\u001b[0m\u001b[0;34m\u001b[0m\u001b[0m\n\u001b[0m\u001b[1;32m    142\u001b[0m         \u001b[0;32mreturn\u001b[0m \u001b[0minput\u001b[0m\u001b[0;34m\u001b[0m\u001b[0;34m\u001b[0m\u001b[0m\n\u001b[1;32m    143\u001b[0m \u001b[0;34m\u001b[0m\u001b[0m\n",
            "\u001b[0;32m/usr/local/lib/python3.7/dist-packages/torch/nn/modules/module.py\u001b[0m in \u001b[0;36m_call_impl\u001b[0;34m(self, *input, **kwargs)\u001b[0m\n\u001b[1;32m   1100\u001b[0m         if not (self._backward_hooks or self._forward_hooks or self._forward_pre_hooks or _global_backward_hooks\n\u001b[1;32m   1101\u001b[0m                 or _global_forward_hooks or _global_forward_pre_hooks):\n\u001b[0;32m-> 1102\u001b[0;31m             \u001b[0;32mreturn\u001b[0m \u001b[0mforward_call\u001b[0m\u001b[0;34m(\u001b[0m\u001b[0;34m*\u001b[0m\u001b[0minput\u001b[0m\u001b[0;34m,\u001b[0m \u001b[0;34m**\u001b[0m\u001b[0mkwargs\u001b[0m\u001b[0;34m)\u001b[0m\u001b[0;34m\u001b[0m\u001b[0;34m\u001b[0m\u001b[0m\n\u001b[0m\u001b[1;32m   1103\u001b[0m         \u001b[0;31m# Do not call functions when jit is used\u001b[0m\u001b[0;34m\u001b[0m\u001b[0;34m\u001b[0m\u001b[0;34m\u001b[0m\u001b[0m\n\u001b[1;32m   1104\u001b[0m         \u001b[0mfull_backward_hooks\u001b[0m\u001b[0;34m,\u001b[0m \u001b[0mnon_full_backward_hooks\u001b[0m \u001b[0;34m=\u001b[0m \u001b[0;34m[\u001b[0m\u001b[0;34m]\u001b[0m\u001b[0;34m,\u001b[0m \u001b[0;34m[\u001b[0m\u001b[0;34m]\u001b[0m\u001b[0;34m\u001b[0m\u001b[0;34m\u001b[0m\u001b[0m\n",
            "\u001b[0;32m/usr/local/lib/python3.7/dist-packages/torch/nn/modules/conv.py\u001b[0m in \u001b[0;36mforward\u001b[0;34m(self, input)\u001b[0m\n\u001b[1;32m    444\u001b[0m \u001b[0;34m\u001b[0m\u001b[0m\n\u001b[1;32m    445\u001b[0m     \u001b[0;32mdef\u001b[0m \u001b[0mforward\u001b[0m\u001b[0;34m(\u001b[0m\u001b[0mself\u001b[0m\u001b[0;34m,\u001b[0m \u001b[0minput\u001b[0m\u001b[0;34m:\u001b[0m \u001b[0mTensor\u001b[0m\u001b[0;34m)\u001b[0m \u001b[0;34m->\u001b[0m \u001b[0mTensor\u001b[0m\u001b[0;34m:\u001b[0m\u001b[0;34m\u001b[0m\u001b[0;34m\u001b[0m\u001b[0m\n\u001b[0;32m--> 446\u001b[0;31m         \u001b[0;32mreturn\u001b[0m \u001b[0mself\u001b[0m\u001b[0;34m.\u001b[0m\u001b[0m_conv_forward\u001b[0m\u001b[0;34m(\u001b[0m\u001b[0minput\u001b[0m\u001b[0;34m,\u001b[0m \u001b[0mself\u001b[0m\u001b[0;34m.\u001b[0m\u001b[0mweight\u001b[0m\u001b[0;34m,\u001b[0m \u001b[0mself\u001b[0m\u001b[0;34m.\u001b[0m\u001b[0mbias\u001b[0m\u001b[0;34m)\u001b[0m\u001b[0;34m\u001b[0m\u001b[0;34m\u001b[0m\u001b[0m\n\u001b[0m\u001b[1;32m    447\u001b[0m \u001b[0;34m\u001b[0m\u001b[0m\n\u001b[1;32m    448\u001b[0m \u001b[0;32mclass\u001b[0m \u001b[0mConv3d\u001b[0m\u001b[0;34m(\u001b[0m\u001b[0m_ConvNd\u001b[0m\u001b[0;34m)\u001b[0m\u001b[0;34m:\u001b[0m\u001b[0;34m\u001b[0m\u001b[0;34m\u001b[0m\u001b[0m\n",
            "\u001b[0;32m/usr/local/lib/python3.7/dist-packages/torch/nn/modules/conv.py\u001b[0m in \u001b[0;36m_conv_forward\u001b[0;34m(self, input, weight, bias)\u001b[0m\n\u001b[1;32m    441\u001b[0m                             _pair(0), self.dilation, self.groups)\n\u001b[1;32m    442\u001b[0m         return F.conv2d(input, weight, bias, self.stride,\n\u001b[0;32m--> 443\u001b[0;31m                         self.padding, self.dilation, self.groups)\n\u001b[0m\u001b[1;32m    444\u001b[0m \u001b[0;34m\u001b[0m\u001b[0m\n\u001b[1;32m    445\u001b[0m     \u001b[0;32mdef\u001b[0m \u001b[0mforward\u001b[0m\u001b[0;34m(\u001b[0m\u001b[0mself\u001b[0m\u001b[0;34m,\u001b[0m \u001b[0minput\u001b[0m\u001b[0;34m:\u001b[0m \u001b[0mTensor\u001b[0m\u001b[0;34m)\u001b[0m \u001b[0;34m->\u001b[0m \u001b[0mTensor\u001b[0m\u001b[0;34m:\u001b[0m\u001b[0;34m\u001b[0m\u001b[0;34m\u001b[0m\u001b[0m\n",
            "\u001b[0;31mKeyboardInterrupt\u001b[0m: "
          ]
        }
      ]
    },
    {
      "cell_type": "markdown",
      "metadata": {
        "id": "-vpRoCDxZSvA"
      },
      "source": [
        "# Data Augmentation\n",
        "---\n",
        "\n",
        "The following code snippets show how we do data augmentation."
      ]
    },
    {
      "cell_type": "code",
      "metadata": {
        "colab": {
          "base_uri": "https://localhost:8080/",
          "height": 513
        },
        "id": "DZL4A19NZd1F",
        "outputId": "0c696bd4-7aa3-42dd-fa7d-692573d44782"
      },
      "source": [
        "from pathlib import Path\n",
        "from model import ModelTester\n",
        "from model.VGG16_Higher_MaxPooling_Leaky import Net\n",
        "from utils import RawData, DataType, Data, preprocess_de_noise, image_rotation\n",
        "import pickle\n",
        "from simple_chalk import chalk\n",
        "import json\n",
        "import os\n",
        "from torch.optim import Adam, SGD\n",
        "import numpy as np\n",
        "\n",
        "OUTPUT_PATH = Path(\"./out\")\n",
        "OUTPUT_MODELS_PATH = OUTPUT_PATH / \"models\"\n",
        "OUTPUT_RECORDS_PATH = OUTPUT_PATH / \"records.json\"\n",
        "DATASET_PATH = Path(\"./dataset\")\n",
        "\n",
        "\n",
        "def read_data(path: Path) -> RawData:\n",
        "    \"\"\"\n",
        "    Read data from the specified data set folder.\n",
        "    :param path:\n",
        "    :return:\n",
        "    \"\"\"\n",
        "    training_x_path = path / \"images_l.pkl\"\n",
        "    training_label_path = path / \"labels_l.pkl\"\n",
        "    training_unlabeled_x_path = path / \"images_ul.pkl\"\n",
        "    test_path = path / \"images_test.pkl\"\n",
        "\n",
        "    with open(training_x_path, 'rb') as f:\n",
        "        training_x = pickle.load(f)\n",
        "\n",
        "    with open(training_label_path, 'rb') as f:\n",
        "        training_label = pickle.load(f)\n",
        "\n",
        "    with open(training_unlabeled_x_path, 'rb') as f:\n",
        "        training_unlabeled = pickle.load(f)\n",
        "\n",
        "    with open(test_path, 'rb') as f:\n",
        "        test = pickle.load(f)\n",
        "\n",
        "    degrees = [15, 30, 0, -15, -30]\n",
        "    val_x = training_x[:1000]\n",
        "    val_y = training_label[:1000]\n",
        "    training_x = image_rotation(training_x[1000:], degrees)\n",
        "    training_label = np.tile(training_label[1000:], (len(degrees) + 1, 1))\n",
        "\n",
        "    validation_x, validation_y = val_x, val_y\n",
        "\n",
        "    training_labeled = Data(training_x, training_label, DataType.LABELED_TRAINING)\n",
        "    training_unlabeled = Data(training_unlabeled, None, DataType.UN_LABELED_TRAINING)\n",
        "    test = Data(test, None, DataType.TEST)\n",
        "    validation = Data(validation_x, validation_y, DataType.VALIDATION)\n",
        "\n",
        "    result = RawData()\n",
        "    result.labeled_training = training_labeled\n",
        "    result.unlabeled_training = training_unlabeled\n",
        "    result.test = test\n",
        "    result.validation = validation\n",
        "\n",
        "    return result\n",
        "\n",
        "\n",
        "if __name__ == '__main__':\n",
        "    # result = read_data(Path(DATASET_PATH))\n",
        "\n",
        "    tester = ModelTester(\n",
        "        read_data(Path(DATASET_PATH)),\n",
        "        Net,\n",
        "        preprocesses=[]\n",
        "    )\n",
        "    print(f'{chalk.bold(\"-\" * 25 + \"START TRAINING\" + \"-\" * 25)}')\n",
        "\n",
        "    # Create the folder if the folder does not exist.\n",
        "    if not OUTPUT_MODELS_PATH.exists():\n",
        "        os.makedirs(OUTPUT_MODELS_PATH.absolute())\n",
        "\n",
        "    training_records = tester.train(\n",
        "        epochs=50,\n",
        "        optimizer=SGD,\n",
        "        optimizer_options={\n",
        "            \"lr\": 0.0005,\n",
        "            \"momentum\": 0.99\n",
        "        },\n",
        "        verbose=False,\n",
        "        model_save_folder=OUTPUT_MODELS_PATH\n",
        "    )\n",
        "    print(f'{chalk.bold(\"-\" * 25 + \"TRAINING COMPLETED\" + \"-\" * 25)}')\n",
        "\n",
        "    # Save training records.\n",
        "    with open(OUTPUT_RECORDS_PATH, 'w') as output_file:\n",
        "        json.dump(training_records, output_file)\n"
      ],
      "execution_count": null,
      "outputs": [
        {
          "output_type": "stream",
          "name": "stdout",
          "text": [
            "\u001b[1mCREATED MODEL TESTER\u001b[0m\n",
            "DEVICES USED           : cuda\n",
            "# OF LABELED TRAINING  : 145000\n",
            "# OF UNLABELED TRAINING: 30000\n",
            "# OF VALIDATION        : 1000\n",
            "# OF TEST              : 15000\n",
            "\u001b[1m-------------------------START TRAINING-------------------------\u001b[0m\n",
            "\u001b[1mCOMPLETED EPOCH: 1\u001b[0m \u001b[1mTRAINING ERROR RATE: \u001b[0m \u001b[91m27.1\u001b[0m% \u001b[1mVALIDATION ERROR RATE: \u001b[0m \u001b[91m23.8\u001b[0m%\n"
          ]
        },
        {
          "output_type": "error",
          "ename": "KeyboardInterrupt",
          "evalue": "ignored",
          "traceback": [
            "\u001b[0;31m---------------------------------------------------------------------------\u001b[0m",
            "\u001b[0;31mKeyboardInterrupt\u001b[0m                         Traceback (most recent call last)",
            "\u001b[0;32m<ipython-input-5-d19b2fd1498b>\u001b[0m in \u001b[0;36m<module>\u001b[0;34m()\u001b[0m\n\u001b[1;32m     83\u001b[0m         },\n\u001b[1;32m     84\u001b[0m         \u001b[0mverbose\u001b[0m\u001b[0;34m=\u001b[0m\u001b[0;32mFalse\u001b[0m\u001b[0;34m,\u001b[0m\u001b[0;34m\u001b[0m\u001b[0;34m\u001b[0m\u001b[0m\n\u001b[0;32m---> 85\u001b[0;31m         \u001b[0mmodel_save_folder\u001b[0m\u001b[0;34m=\u001b[0m\u001b[0mOUTPUT_MODELS_PATH\u001b[0m\u001b[0;34m\u001b[0m\u001b[0;34m\u001b[0m\u001b[0m\n\u001b[0m\u001b[1;32m     86\u001b[0m     )\n\u001b[1;32m     87\u001b[0m     \u001b[0mprint\u001b[0m\u001b[0;34m(\u001b[0m\u001b[0;34mf'{chalk.bold(\"-\" * 25 + \"TRAINING COMPLETED\" + \"-\" * 25)}'\u001b[0m\u001b[0;34m)\u001b[0m\u001b[0;34m\u001b[0m\u001b[0;34m\u001b[0m\u001b[0m\n",
            "\u001b[0;32m/content/model/__init__.py\u001b[0m in \u001b[0;36mtrain\u001b[0;34m(self, epochs, epochs_record, records_load_rate, batch_size, loss_function, loss_function_options, optimizer, optimizer_options, verbose, model_save_folder)\u001b[0m\n\u001b[1;32m    117\u001b[0m                 \u001b[0mx\u001b[0m \u001b[0;34m=\u001b[0m \u001b[0mself\u001b[0m\u001b[0;34m.\u001b[0m\u001b[0m__trained_model\u001b[0m\u001b[0;34m.\u001b[0m\u001b[0mprepare_input\u001b[0m\u001b[0;34m(\u001b[0m\u001b[0mx\u001b[0m\u001b[0;34m)\u001b[0m\u001b[0;34m\u001b[0m\u001b[0;34m\u001b[0m\u001b[0m\n\u001b[1;32m    118\u001b[0m                 \u001b[0;32mif\u001b[0m \u001b[0mself\u001b[0m\u001b[0;34m.\u001b[0m\u001b[0m__device\u001b[0m\u001b[0;34m.\u001b[0m\u001b[0mtype\u001b[0m \u001b[0;34m==\u001b[0m \u001b[0;34m'cuda'\u001b[0m\u001b[0;34m:\u001b[0m\u001b[0;34m\u001b[0m\u001b[0;34m\u001b[0m\u001b[0m\n\u001b[0;32m--> 119\u001b[0;31m                     \u001b[0mx\u001b[0m\u001b[0;34m,\u001b[0m \u001b[0my\u001b[0m \u001b[0;34m=\u001b[0m \u001b[0mx\u001b[0m\u001b[0;34m.\u001b[0m\u001b[0mcuda\u001b[0m\u001b[0;34m(\u001b[0m\u001b[0;34m)\u001b[0m\u001b[0;34m,\u001b[0m \u001b[0my\u001b[0m\u001b[0;34m.\u001b[0m\u001b[0mcuda\u001b[0m\u001b[0;34m(\u001b[0m\u001b[0;34m)\u001b[0m\u001b[0;34m\u001b[0m\u001b[0;34m\u001b[0m\u001b[0m\n\u001b[0m\u001b[1;32m    120\u001b[0m                 \u001b[0;32melse\u001b[0m\u001b[0;34m:\u001b[0m\u001b[0;34m\u001b[0m\u001b[0;34m\u001b[0m\u001b[0m\n\u001b[1;32m    121\u001b[0m                     \u001b[0mx\u001b[0m\u001b[0;34m,\u001b[0m \u001b[0my\u001b[0m \u001b[0;34m=\u001b[0m \u001b[0mx\u001b[0m\u001b[0;34m.\u001b[0m\u001b[0mcpu\u001b[0m\u001b[0;34m(\u001b[0m\u001b[0;34m)\u001b[0m\u001b[0;34m,\u001b[0m \u001b[0my\u001b[0m\u001b[0;34m.\u001b[0m\u001b[0mcpu\u001b[0m\u001b[0;34m(\u001b[0m\u001b[0;34m)\u001b[0m\u001b[0;34m\u001b[0m\u001b[0;34m\u001b[0m\u001b[0m\n",
            "\u001b[0;31mKeyboardInterrupt\u001b[0m: "
          ]
        }
      ]
    },
    {
      "cell_type": "markdown",
      "metadata": {
        "id": "AqXrbs8BdubX"
      },
      "source": [
        "# Picture Drawing\n",
        "---\n",
        "\n",
        "The following code snippets show how we draw the pictures with `.json` files created by when training the models."
      ]
    },
    {
      "cell_type": "markdown",
      "metadata": {
        "id": "1nCJE5xo9Gih"
      },
      "source": [
        "## Change the library for saving the graphs"
      ]
    },
    {
      "cell_type": "code",
      "metadata": {
        "colab": {
          "base_uri": "https://localhost:8080/",
          "height": 472
        },
        "id": "DcwJee7ayI1j",
        "outputId": "4733fd93-6fa2-4075-d47c-f3109e80f1de"
      },
      "source": [
        "pip install matplotlib==3.1.3"
      ],
      "execution_count": 7,
      "outputs": [
        {
          "output_type": "stream",
          "name": "stdout",
          "text": [
            "Collecting matplotlib==3.1.3\n",
            "  Downloading matplotlib-3.1.3-cp37-cp37m-manylinux1_x86_64.whl (13.1 MB)\n",
            "\u001b[K     |████████████████████████████████| 13.1 MB 4.4 MB/s \n",
            "\u001b[?25hRequirement already satisfied: kiwisolver>=1.0.1 in /usr/local/lib/python3.7/dist-packages (from matplotlib==3.1.3) (1.3.2)\n",
            "Requirement already satisfied: numpy>=1.11 in /usr/local/lib/python3.7/dist-packages (from matplotlib==3.1.3) (1.21.2)\n",
            "Requirement already satisfied: cycler>=0.10 in /usr/local/lib/python3.7/dist-packages (from matplotlib==3.1.3) (0.10.0)\n",
            "Requirement already satisfied: pyparsing!=2.0.4,!=2.1.2,!=2.1.6,>=2.0.1 in /usr/local/lib/python3.7/dist-packages (from matplotlib==3.1.3) (2.4.7)\n",
            "Requirement already satisfied: python-dateutil>=2.1 in /usr/local/lib/python3.7/dist-packages (from matplotlib==3.1.3) (2.8.2)\n",
            "Requirement already satisfied: six in /usr/local/lib/python3.7/dist-packages (from cycler>=0.10->matplotlib==3.1.3) (1.16.0)\n",
            "Installing collected packages: matplotlib\n",
            "  Attempting uninstall: matplotlib\n",
            "    Found existing installation: matplotlib 3.4.3\n",
            "    Uninstalling matplotlib-3.4.3:\n",
            "      Successfully uninstalled matplotlib-3.4.3\n",
            "\u001b[31mERROR: pip's dependency resolver does not currently take into account all the packages that are installed. This behaviour is the source of the following dependency conflicts.\n",
            "yellowbrick 1.3.post1 requires numpy<1.20,>=1.16.0, but you have numpy 1.21.2 which is incompatible.\n",
            "arviz 0.11.4 requires typing-extensions<4,>=3.7.4.3, but you have typing-extensions 4.0.0 which is incompatible.\n",
            "albumentations 0.1.12 requires imgaug<0.2.7,>=0.2.5, but you have imgaug 0.2.9 which is incompatible.\u001b[0m\n",
            "Successfully installed matplotlib-3.1.3\n"
          ]
        },
        {
          "output_type": "display_data",
          "data": {
            "application/vnd.colab-display-data+json": {
              "pip_warning": {
                "packages": [
                  "matplotlib",
                  "mpl_toolkits"
                ]
              }
            }
          },
          "metadata": {}
        }
      ]
    },
    {
      "cell_type": "markdown",
      "metadata": {
        "id": "B7n0lNr-9Z2A"
      },
      "source": [
        "## Example of drawing the graph"
      ]
    },
    {
      "cell_type": "code",
      "metadata": {
        "colab": {
          "base_uri": "https://localhost:8080/",
          "height": 279
        },
        "id": "Kr36P88wdubc",
        "outputId": "69691c5c-e338-485d-fba9-5ee0b80efe16"
      },
      "source": [
        "from utils import json_to_numpy, plot_accuracy_trends\n",
        "legend_list = [\"Training\", \"Validation\"]\n",
        "acc_list = []\n",
        "\n",
        "epoch_list, train_acc_list, val_acc_list = json_to_numpy(\"vgg16_vanilla.json\")\n",
        "acc_list.append(train_acc_list)\n",
        "acc_list.append(val_acc_list)\n",
        "\n",
        "plot_accuracy_trends(epoch_list, acc_list, legend_list, \"Vgg_16\")"
      ],
      "execution_count": 8,
      "outputs": [
        {
          "output_type": "display_data",
          "data": {
            "image/png": "[encoded data removed]",
            "text/plain": [
              "<Figure size 432x288 with 1 Axes>"
            ]
          },
          "metadata": {
            "needs_background": "light"
          }
        }
      ]
    }
  ]
}